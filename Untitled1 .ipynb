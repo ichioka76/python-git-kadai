{
  "cells": [
    {
      "cell_type": "code",
      "execution_count": 19,
      "metadata": {
        "colab": {
          "base_uri": "https://localhost:8080/"
        },
        "id": "3Hu3ucR-zkUg",
        "outputId": "93956d8d-5ff6-4545-de80-ff220789c205"
      },
      "outputs": [
        {
          "name": "stdout",
          "output_type": "stream",
          "text": [
            "75.0 ㎠\n"
          ]
        }
      ],
      "source": [
        "上辺 = 20 # cm\n",
        "下辺 = 10 # cm\n",
        "高さ =  5 # cm\n",
        "\n",
        "台形の面積= (上辺 + 下辺) * 高さ/ 2\n",
        "\n",
        "print(f\"{台形の面積} ㎠\")\n",
        "\n"
      ]
    }
  ],
  "metadata": {
    "colab": {
      "gpuType": "T4",
      "provenance": []
    },
    "kernelspec": {
      "display_name": "Python 3",
      "name": "python3"
    },
    "language_info": {
      "name": "python"
    }
  },
  "nbformat": 4,
  "nbformat_minor": 0
}
